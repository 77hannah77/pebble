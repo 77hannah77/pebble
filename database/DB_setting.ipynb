{
 "cells": [
  {
   "cell_type": "code",
   "execution_count": 4,
   "metadata": {},
   "outputs": [],
   "source": [
    "import requests, json\n",
    "\n",
    "# register_url = \"http://127.0.0.1:8000/quote/\"\n",
    "register_url = 'http://15.164.27.255/quote/'\n",
    "\n",
    "def save(data, filename):\n",
    "    with open(filename, 'w', encoding='utf-8') as f:\n",
    "        json.dump(data, f, ensure_ascii=False, indent=4)\n",
    "\n",
    "def read(filename):\n",
    "    with open(filename, 'r', encoding='utf-8') as f:\n",
    "        data = json.load(f)\n",
    "    return data\n",
    "\n",
    "def regiester(filename, url):\n",
    "    data = read(filename)\n",
    "    for quote in data[:10]:\n",
    "        content = quote['content']\n",
    "        response = requests.post(url, data=quote)\n",
    "        if response.status_code == 201:\n",
    "            print(f\"전송 성공: {content}\")\n",
    "        else:\n",
    "            print(\"전송 실패:\", content, response.status_code, response.text)"
   ]
  },
  {
   "cell_type": "markdown",
   "metadata": {},
   "source": [
    "### description 자동 생성"
   ]
  },
  {
   "cell_type": "code",
   "execution_count": null,
   "metadata": {},
   "outputs": [],
   "source": [
    "from openai import OpenAI\n",
    "import os\n",
    "\n",
    "client = OpenAI(\n",
    "    api_key = os.getenv(\"OPENAI_API_KEY\") # OPENAI API KEY\n",
    ")\n",
    "def get_chatgpt_response(content):\n",
    "    system_prompt = \"\"\"\n",
    "    너는 명언에 대해 설명을 달아주는 역할을 수행해야 해. 이 명언에 담긴 뜻과 함께 일상의 어떤 상황에서 해당 명언이 도움이 될 수 있을지를 고려해서 명언 설명을 작성해줘. 그리고 명언 구절을 재언급하지는 말아줘. 반드시 한국어 글자수 기준으로 300~400자 분량을 준수해야 해. '예를 들어', \"~도 마찬가지다\"와 같이 의미를 담지 않고 있는 연결 문장들은 다 제외해줘. 예제는 다음과 같아.\n",
    "    명언 : \"되찾을 수 없는게 세월이니 시시한 일에 시간을 낭비하지 말고 순간순간을 후회 없이 잘 살아야 한다\",\n",
    "    \"description\": \"이 명언은 시간이 유한하고 되돌릴 수 없음을 상기시키며, 매 순간을 소중히 여기고 후회 없이 살아야 한다는 교훈을 줍니다. 시간은 누구에게나 공평하게 흐르며, 한 번 지나가면 다시 돌아오지 않습니다. 따라서 중요한 일에 집중하고, 의미 있는 삶을 살기 위해 노력하는 것이 중요합니다. 일상에서는 시간을 효율적으로 관리하고, 자신의 목표와 가치에 맞는 일에 에너지를 쏟는 데 도움이 됩니다. 예를 들어, 불필요한 걱정이나 갈등에 시간을 소비하기보다는, 자신에게 진정으로 중요한 사람들과 시간을 보내고, 자신의 꿈과 목표를 향해 꾸준히 나아가는 것이 더 가치 있습니다. 또한, 일을 할 때도 단순한 반복 업무나 중요하지 않은 일에 지나치게 시간을 할애하지 않고, 우선순위를 정해 중요한 일을 먼저 처리하는 습관을 기르는 것이 필요합니다. 이 명언은 우리에게 매 순간을 소중히 여기고, 후회 없이 최선을 다해 살아가는 태도를 가지도록 격려합니다. 이를 통해 우리는 보다 의미 있고 충실한 삶을 살아갈 수 있습니다.\"\n",
    "    \"\"\"\n",
    "\n",
    "    # 프롬프트 예제\n",
    "    user_prompt = f\"\"\"\n",
    "    \"명언\" : {content}\n",
    "    \"description\" :\n",
    "    \"\"\"\n",
    "    try:\n",
    "        # ChatGPT API 호출\n",
    "        response = client.chat.completions.create(\n",
    "            model=\"gpt-4o\",\n",
    "            messages=[\n",
    "                {\"role\": \"system\", \"content\": system_prompt},\n",
    "                {\"role\": \"user\", \"content\": user_prompt}\n",
    "            ],\n",
    "            temperature=0.5,  # 응답의 창의성 조절 (0.0 ~ 1.0)\n",
    "        )\n",
    "        response_text = response.choices[0].message.content.strip()\n",
    "        return response_text\n",
    "    except Exception as e:\n",
    "        return str(e)\n",
    "\n",
    "# content, author만 있는 json 파일 로드\n",
    "data = read('quote.json')\n",
    "\n",
    "from tqdm import tqdm\n",
    "new_data = []\n",
    "for x in tqdm(data):\n",
    "    temp = {}\n",
    "    temp['content'] = x['content']\n",
    "    temp['description'] = get_chatgpt_response(x['content'])\n",
    "    temp['author'] = x['author']\n",
    "    new_data.append(temp)\n",
    "\n",
    "# 결과를 json파일로 저장\n",
    "save(new_data, 'out.json')"
   ]
  },
  {
   "cell_type": "markdown",
   "metadata": {},
   "source": [
    "### 서버 DB에 명언 자동 등록"
   ]
  },
  {
   "cell_type": "code",
   "execution_count": null,
   "metadata": {},
   "outputs": [],
   "source": [
    "import requests, json\n",
    "from tqdm import tqdm\n",
    "\n",
    "def read(filename):\n",
    "    with open(filename, 'r', encoding='utf-8') as f:\n",
    "        data = json.load(f)\n",
    "    return data\n",
    "quotes = read('quote_example.json') # 명언 100개 로드\n",
    "\n",
    "access_token = [\n",
    "    # user별 access token 리스트\n",
    "] \n",
    "access_index = -1\n",
    "\n",
    "# 상위 30개는 5개씩 6명의 유저 명목으로 생성\n",
    "for idx, quote in tqdm(enumerate(quotes[:30])):\n",
    "    if idx % 5 == 0: access_index += 1\n",
    "    headers = {\n",
    "        \"Authorization\": f\"Bearer {access_token[access_index]}\"\n",
    "    }\n",
    "    data = {\n",
    "        \"content\" : quote['content'],\n",
    "        \"description\" : quote['description']\n",
    "    }\n",
    "    response = requests.post(\"http://15.164.27.255/quote/quote-register/\", headers=headers,data=data)\n",
    "    if response.status_code != 201:\n",
    "        print(\"에러 발생\")\n",
    "        break\n",
    "\n",
    "# 남은 70개는 User Token 없이 삽입\n",
    "for quote in quotes[30:]:\n",
    "    content = quote['content']\n",
    "    response = requests.post('http://15.164.27.255/quote/', data=quote)\n",
    "    if response.status_code == 201:\n",
    "        print(f\"전송 성공: {content}\")\n",
    "    else:\n",
    "        print(\"전송 실패:\", content, response.status_code, response.text)"
   ]
  },
  {
   "cell_type": "markdown",
   "metadata": {},
   "source": [
    "### Query로 질문에 대한 응답 예제파일 생성"
   ]
  },
  {
   "cell_type": "code",
   "execution_count": 33,
   "metadata": {},
   "outputs": [],
   "source": [
    "import pandas as pd\n",
    "def recommend_test(query_filename, url):\n",
    "    query_set = pd.read_csv(query_filename) \n",
    "    result = []\n",
    "\n",
    "    for query in query_set['text']:\n",
    "        response = requests.post(url, data={'query' : query})\n",
    "        if response.status_code == 200: # OK\n",
    "            print(\"전송 성공\")\n",
    "            response_data = response.json()\n",
    "            sorted_data = sorted(response_data, key=lambda x: x['score'])\n",
    "            data = {\n",
    "                \"query\" : query,\n",
    "                \"quote1\" : sorted_data[0]['quote'],\n",
    "                \"description1\" : sorted_data[0]['description'],\n",
    "                \"quote2\" : sorted_data[1]['quote'],\n",
    "                \"description2\" : sorted_data[1]['description'],\n",
    "                \"quote3\" : sorted_data[2]['quote'],\n",
    "                \"description3\" : sorted_data[2]['description'],\n",
    "            }\n",
    "            result.append(data)\n",
    "        else:\n",
    "            print(\"전송 실패:\", response.status_code, response.text)\n",
    "    return result"
   ]
  },
  {
   "cell_type": "code",
   "execution_count": 34,
   "metadata": {},
   "outputs": [
    {
     "data": {
      "text/html": [
       "<div>\n",
       "<style scoped>\n",
       "    .dataframe tbody tr th:only-of-type {\n",
       "        vertical-align: middle;\n",
       "    }\n",
       "\n",
       "    .dataframe tbody tr th {\n",
       "        vertical-align: top;\n",
       "    }\n",
       "\n",
       "    .dataframe thead th {\n",
       "        text-align: right;\n",
       "    }\n",
       "</style>\n",
       "<table border=\"1\" class=\"dataframe\">\n",
       "  <thead>\n",
       "    <tr style=\"text-align: right;\">\n",
       "      <th></th>\n",
       "      <th>text</th>\n",
       "    </tr>\n",
       "  </thead>\n",
       "  <tbody>\n",
       "    <tr>\n",
       "      <th>0</th>\n",
       "      <td>오늘 해야할 일이 있는 것을 아는데 너무 귀찮아서 그냥 집에서 누워서 핸드폰 보면서...</td>\n",
       "    </tr>\n",
       "    <tr>\n",
       "      <th>1</th>\n",
       "      <td>모든 것이 너무 힘들어. 요즘 너무 바빠서 처리할 일도 많고 그러다보니 여유도 없어...</td>\n",
       "    </tr>\n",
       "    <tr>\n",
       "      <th>2</th>\n",
       "      <td>오늘은 너무 행복한 날이야. 내가 1년 동안 준비했던 시험에서 원하는 성적을 거두었...</td>\n",
       "    </tr>\n",
       "    <tr>\n",
       "      <th>3</th>\n",
       "      <td>새로운 도전을 시작해볼까? 물론 지금 하는 일을 포기하고 도전해야 한다는 것이 두렵...</td>\n",
       "    </tr>\n",
       "    <tr>\n",
       "      <th>4</th>\n",
       "      <td>실수해서 너무 속상해. 많은 사람들 앞에서 창피를 당했어. 사람들이 내가 무능한 사...</td>\n",
       "    </tr>\n",
       "  </tbody>\n",
       "</table>\n",
       "</div>"
      ],
      "text/plain": [
       "                                                text\n",
       "0  오늘 해야할 일이 있는 것을 아는데 너무 귀찮아서 그냥 집에서 누워서 핸드폰 보면서...\n",
       "1  모든 것이 너무 힘들어. 요즘 너무 바빠서 처리할 일도 많고 그러다보니 여유도 없어...\n",
       "2  오늘은 너무 행복한 날이야. 내가 1년 동안 준비했던 시험에서 원하는 성적을 거두었...\n",
       "3  새로운 도전을 시작해볼까? 물론 지금 하는 일을 포기하고 도전해야 한다는 것이 두렵...\n",
       "4  실수해서 너무 속상해. 많은 사람들 앞에서 창피를 당했어. 사람들이 내가 무능한 사..."
      ]
     },
     "execution_count": 34,
     "metadata": {},
     "output_type": "execute_result"
    }
   ],
   "source": [
    "recommend_url = \"http://127.0.0.1:8080/quote/recommend/\"\n",
    "query_filename = 'question.csv'\n",
    "\n",
    "query_file = pd.read_csv(query_filename)\n",
    "query_file.head()"
   ]
  },
  {
   "cell_type": "code",
   "execution_count": 35,
   "metadata": {},
   "outputs": [
    {
     "name": "stdout",
     "output_type": "stream",
     "text": [
      "전송 성공\n",
      "전송 성공\n",
      "전송 성공\n",
      "전송 성공\n",
      "전송 성공\n",
      "전송 성공\n",
      "전송 성공\n",
      "전송 성공\n",
      "전송 성공\n",
      "전송 성공\n",
      "전송 성공\n",
      "전송 성공\n",
      "전송 성공\n",
      "전송 성공\n",
      "전송 성공\n",
      "전송 성공\n",
      "전송 성공\n",
      "전송 성공\n",
      "전송 성공\n",
      "전송 성공\n",
      "전송 성공\n",
      "전송 성공\n",
      "전송 성공\n",
      "전송 성공\n",
      "전송 성공\n",
      "전송 성공\n",
      "전송 성공\n",
      "전송 성공\n",
      "전송 성공\n",
      "전송 성공\n",
      "전송 성공\n"
     ]
    }
   ],
   "source": [
    "result = recommend_test(query_filename, recommend_url)"
   ]
  },
  {
   "cell_type": "code",
   "execution_count": 32,
   "metadata": {},
   "outputs": [],
   "source": [
    "with open('answer.json', 'w', encoding='utf-8') as json_file:\n",
    "    json.dump(result, json_file, ensure_ascii=False, indent=4)"
   ]
  }
 ],
 "metadata": {
  "kernelspec": {
   "display_name": "venv",
   "language": "python",
   "name": "python3"
  },
  "language_info": {
   "codemirror_mode": {
    "name": "ipython",
    "version": 3
   },
   "file_extension": ".py",
   "mimetype": "text/x-python",
   "name": "python",
   "nbconvert_exporter": "python",
   "pygments_lexer": "ipython3",
   "version": "3.10.14"
  }
 },
 "nbformat": 4,
 "nbformat_minor": 2
}
