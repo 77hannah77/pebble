{
 "cells": [
  {
   "cell_type": "code",
   "execution_count": 3,
   "metadata": {},
   "outputs": [],
   "source": [
    "import requests, json\n",
    "\n",
    "register_url = \"http://127.0.0.1:8080/quote/\"\n",
    "\n",
    "def save(data, filename):\n",
    "    with open(filename, 'w', encoding='utf-8') as f:\n",
    "        json.dump(data, f, ensure_ascii=False, indent=4)\n",
    "\n",
    "def read(filename):\n",
    "    with open(filename, 'r', encoding='utf-8') as f:\n",
    "        data = json.load(f)\n",
    "    return data\n",
    "\n",
    "def regiester(filename, url):\n",
    "    data = read(filename)\n",
    "    for quote in data:\n",
    "        content = quote['content']\n",
    "        response = requests.post(url, data=quote)\n",
    "        if response.status_code == 201:\n",
    "            print(f\"전송 성공: {content}\")\n",
    "        else:\n",
    "            print(\"전송 실패:\", content, response.status_code, response.text)"
   ]
  },
  {
   "cell_type": "code",
   "execution_count": 4,
   "metadata": {},
   "outputs": [
    {
     "name": "stdout",
     "output_type": "stream",
     "text": [
      "전송 성공: 천 리 길도 한 걸음부터 시작된다.\n",
      "전송 성공: 포기하지 않는 한 실패는 없다.\n",
      "전송 성공: 실수는 성장의 기회이다\n",
      "전송 성공: 생각하는 대로 이루어진다\n",
      "전송 성공: 배움은 언제나 즐거운 것이다\n",
      "전송 성공: 사랑은 삶의 꽃이다\n",
      "전송 성공: 자신감을 가지면 반은 성공한 것이다\n",
      "전송 성공: 오늘 심은 씨앗이 내일의 열매를 맺는다\n",
      "전송 성공: 변화는 새로운 시작이다\n",
      "전송 성공: 행복은 우리가 만드는 것이다\n",
      "전송 성공: 행동이 말보다 더 중요하다\n",
      "전송 성공: 꿈을 꾸지 않으면 이룰 수 없다\n",
      "전송 성공: 기회는 준비된 자에게 온다\n",
      "전송 성공: 노력 없이는 아무 것도 이루어지지 않는다\n",
      "전송 성공: 인내는 쓰지만 그 열매는 달다\n",
      "전송 성공: 한 번의 실패가 끝은 아니다\n",
      "전송 성공: 자신을 믿어라. 그래야 다른 사람도 당신을 믿는다\n",
      "전송 성공: 사랑은 모든 것을 이긴다\n",
      "전송 성공: 위대한 일은 작은 일들의 축적이다\n",
      "전송 성공: 성공은 준비와 기회의 만남이다\n",
      "전송 성공: 오늘 할 일을 내일로 미루지 마라\n",
      "전송 성공: 최선을 다해 살아라. 그게 바로 승리다\n",
      "전송 성공: 실패는 성공의 어머니이다\n",
      "전송 성공: 미래는 현재 우리가 무엇을 하느냐에 달려 있다\n",
      "전송 성공: 한 걸음 한 걸음이 중요하다\n",
      "전송 성공: 열정은 모든 것을 이긴다\n",
      "전송 성공: 삶은 짧고, 기쁨은 길다\n",
      "전송 성공: 성공은 준비된 마음이 만든다\n",
      "전송 성공: 남의 행복을 즐기는 사람만이 진정한 행복을 누릴 수 있다\n",
      "전송 성공: 언제나 항상, 사랑은 친절하고, 지혜로운 자가 아니면 존재하지 않는다\n",
      "전송 성공: 당신의 모든 답을 아는 사람은 없다\n",
      "전송 성공: 일이 달리지 않을 때, 당신의 스스로는 다시 시작해야 한다\n",
      "전송 성공: 당신이 가진 삶을 사는 것은 동일한 어떤 대화를 즐기는 것이다\n",
      "전송 성공: 목적이 없는 인생은 탐험되지 않은 인생보다 더욱 무료하지 않을 것이다\n",
      "전송 성공: 사람들이 대화를 원할 때, 나는 말할 수 없었다\n",
      "전송 성공: 성공적인 목표 설정 및 진행은 불완전함을 인정하는 것이다\n",
      "전송 성공: 너 자신과 결혼하고 싶다면, 오늘까지 기다리지 마라\n",
      "전송 성공: 성을 쌓는 것에는 20년이란 세월이 걸리며 명성을 무너뜨리는 것에는 5분도 걸리지 않는다. 그걸 명심한다면 당신의 행동이 달라질 것이다.\n",
      "전송 성공: 바람이 불지 않으면 노를 저어라\n",
      "전송 성공: 성공을 위한 세 가지 열쇠는 이것이다. 첫째는 끈기, 둘째는 끈기, 셋째도 끈기\n",
      "전송 성공: 가끔은 혁신을 추구하다 실수할 때도 있다. 하지만 빨리 인정하고 다른 혁신을 개선해 나가는 것이 최선이다.\n",
      "전송 성공: 휴식은 게으름도, 멈춤도 아니다.\n",
      "전송 성공: 인생에 있어서 최고의 행복은 우리가 사랑받고 있다는 확신이다.\n",
      "전송 성공: 행복함에는 두 갈래의 길이 있다. 욕망을 적게 하거나 재산을 많게 하거나 하면 된다.\n",
      "전송 성공: 행복을 잃기는 무척 쉽다. 왜냐하면 행복이란 언제나 분에 넘치는 것이기 때문이다.\n",
      "전송 성공: 마음이 어진 사람은 조그마한 집에 살아도 행복하다.\n",
      "전송 성공: 행복의 비밀은 자신이 좋아하는 일을 하는 것이 아니라, 자신이 하는 일을 좋아하는 것이다.\n",
      "전송 성공: 뜨거운 열정보다 중요한 것은 지속적인 열정이다.\n",
      "전송 성공: 나의 성공은 중도에 그만두지 않고 한 가지 일에 매달려 지속적으로 노력하는 능력 덕분이다.\n",
      "전송 성공: 성공이라는 못을 박으려면 끈질김이라는 망치가 필요하다.\n",
      "전송 성공: 저는 매일 하루도 빠짐없이 물 속에 있었습니다.\n",
      "전송 성공: 노력은 우리의 내면 깊은 곳에서 나오는 소리이다. 그것은 '나는 할 수 있다’고 말하는 우리 자신의 응원가이다.\n",
      "전송 성공: 내가 세계를 알게 된 것은 책을 통해서였다.\n",
      "전송 성공: 약으로 병을 고치듯이 독서로 마음을 다스린다\n",
      "전송 성공: 독서는 완성된 사람을 만들고, 담론은 재치 있는 사람을 만들며, 필기는 정확한 사람을 만든다.\n",
      "전송 성공: 오늘의 나를 있게 한 것은 우리 마을 도서관이었고, 하버드 졸업장보다 소중한 것이 독서하는 습관이다.\n",
      "전송 성공: 한 인간의 존재를 결정짓는 것은 그가 읽은 책과 그가 쓴 글이다.\n"
     ]
    }
   ],
   "source": [
    "# 혜나가 보내준 자료 + 내가 만든 Quote로 DB(PostgreSQL, ChromaDB)에 등록\n",
    "# 총 57개의 명언이 등록 성공\n",
    "regiester('quote_example.json', register_url)"
   ]
  },
  {
   "cell_type": "code",
   "execution_count": 33,
   "metadata": {},
   "outputs": [],
   "source": [
    "import pandas as pd\n",
    "def recommend_test(query_filename, url):\n",
    "    query_set = pd.read_csv(query_filename) \n",
    "    result = []\n",
    "\n",
    "    for query in query_set['text']:\n",
    "        response = requests.post(url, data={'query' : query})\n",
    "        if response.status_code == 200: # OK\n",
    "            print(\"전송 성공\")\n",
    "            response_data = response.json()\n",
    "            sorted_data = sorted(response_data, key=lambda x: x['score'])\n",
    "            data = {\n",
    "                \"query\" : query,\n",
    "                \"quote1\" : sorted_data[0]['quote'],\n",
    "                \"description1\" : sorted_data[0]['description'],\n",
    "                \"quote2\" : sorted_data[1]['quote'],\n",
    "                \"description2\" : sorted_data[1]['description'],\n",
    "                \"quote3\" : sorted_data[2]['quote'],\n",
    "                \"description3\" : sorted_data[2]['description'],\n",
    "            }\n",
    "            result.append(data)\n",
    "        else:\n",
    "            print(\"전송 실패:\", response.status_code, response.text)\n",
    "    return result"
   ]
  },
  {
   "cell_type": "code",
   "execution_count": 34,
   "metadata": {},
   "outputs": [
    {
     "data": {
      "text/html": [
       "<div>\n",
       "<style scoped>\n",
       "    .dataframe tbody tr th:only-of-type {\n",
       "        vertical-align: middle;\n",
       "    }\n",
       "\n",
       "    .dataframe tbody tr th {\n",
       "        vertical-align: top;\n",
       "    }\n",
       "\n",
       "    .dataframe thead th {\n",
       "        text-align: right;\n",
       "    }\n",
       "</style>\n",
       "<table border=\"1\" class=\"dataframe\">\n",
       "  <thead>\n",
       "    <tr style=\"text-align: right;\">\n",
       "      <th></th>\n",
       "      <th>text</th>\n",
       "    </tr>\n",
       "  </thead>\n",
       "  <tbody>\n",
       "    <tr>\n",
       "      <th>0</th>\n",
       "      <td>오늘 해야할 일이 있는 것을 아는데 너무 귀찮아서 그냥 집에서 누워서 핸드폰 보면서...</td>\n",
       "    </tr>\n",
       "    <tr>\n",
       "      <th>1</th>\n",
       "      <td>모든 것이 너무 힘들어. 요즘 너무 바빠서 처리할 일도 많고 그러다보니 여유도 없어...</td>\n",
       "    </tr>\n",
       "    <tr>\n",
       "      <th>2</th>\n",
       "      <td>오늘은 너무 행복한 날이야. 내가 1년 동안 준비했던 시험에서 원하는 성적을 거두었...</td>\n",
       "    </tr>\n",
       "    <tr>\n",
       "      <th>3</th>\n",
       "      <td>새로운 도전을 시작해볼까? 물론 지금 하는 일을 포기하고 도전해야 한다는 것이 두렵...</td>\n",
       "    </tr>\n",
       "    <tr>\n",
       "      <th>4</th>\n",
       "      <td>실수해서 너무 속상해. 많은 사람들 앞에서 창피를 당했어. 사람들이 내가 무능한 사...</td>\n",
       "    </tr>\n",
       "  </tbody>\n",
       "</table>\n",
       "</div>"
      ],
      "text/plain": [
       "                                                text\n",
       "0  오늘 해야할 일이 있는 것을 아는데 너무 귀찮아서 그냥 집에서 누워서 핸드폰 보면서...\n",
       "1  모든 것이 너무 힘들어. 요즘 너무 바빠서 처리할 일도 많고 그러다보니 여유도 없어...\n",
       "2  오늘은 너무 행복한 날이야. 내가 1년 동안 준비했던 시험에서 원하는 성적을 거두었...\n",
       "3  새로운 도전을 시작해볼까? 물론 지금 하는 일을 포기하고 도전해야 한다는 것이 두렵...\n",
       "4  실수해서 너무 속상해. 많은 사람들 앞에서 창피를 당했어. 사람들이 내가 무능한 사..."
      ]
     },
     "execution_count": 34,
     "metadata": {},
     "output_type": "execute_result"
    }
   ],
   "source": [
    "recommend_url = \"http://127.0.0.1:8080/quote/recommend/\"\n",
    "query_filename = 'question.csv'\n",
    "\n",
    "query_file = pd.read_csv(query_filename)\n",
    "query_file.head()"
   ]
  },
  {
   "cell_type": "code",
   "execution_count": 35,
   "metadata": {},
   "outputs": [
    {
     "name": "stdout",
     "output_type": "stream",
     "text": [
      "전송 성공\n",
      "전송 성공\n",
      "전송 성공\n",
      "전송 성공\n",
      "전송 성공\n",
      "전송 성공\n",
      "전송 성공\n",
      "전송 성공\n",
      "전송 성공\n",
      "전송 성공\n",
      "전송 성공\n",
      "전송 성공\n",
      "전송 성공\n",
      "전송 성공\n",
      "전송 성공\n",
      "전송 성공\n",
      "전송 성공\n",
      "전송 성공\n",
      "전송 성공\n",
      "전송 성공\n",
      "전송 성공\n",
      "전송 성공\n",
      "전송 성공\n",
      "전송 성공\n",
      "전송 성공\n",
      "전송 성공\n",
      "전송 성공\n",
      "전송 성공\n",
      "전송 성공\n",
      "전송 성공\n",
      "전송 성공\n"
     ]
    }
   ],
   "source": [
    "result = recommend_test(query_filename, recommend_url)"
   ]
  },
  {
   "cell_type": "code",
   "execution_count": 32,
   "metadata": {},
   "outputs": [],
   "source": [
    "with open('answer.json', 'w', encoding='utf-8') as json_file:\n",
    "    json.dump(result, json_file, ensure_ascii=False, indent=4)"
   ]
  }
 ],
 "metadata": {
  "kernelspec": {
   "display_name": "venv",
   "language": "python",
   "name": "python3"
  },
  "language_info": {
   "codemirror_mode": {
    "name": "ipython",
    "version": 3
   },
   "file_extension": ".py",
   "mimetype": "text/x-python",
   "name": "python",
   "nbconvert_exporter": "python",
   "pygments_lexer": "ipython3",
   "version": "3.10.14"
  }
 },
 "nbformat": 4,
 "nbformat_minor": 2
}
