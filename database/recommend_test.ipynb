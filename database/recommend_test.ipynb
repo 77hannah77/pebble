{
 "cells": [
  {
   "cell_type": "code",
   "execution_count": 2,
   "metadata": {},
   "outputs": [],
   "source": [
    "import requests, json\n",
    "\n",
    "register_url = \"http://127.0.0.1:8000/quote/\"\n",
    "\n",
    "def save(data, filename):\n",
    "    with open(filename, 'w', encoding='utf-8') as f:\n",
    "        json.dump(data, f, ensure_ascii=False, indent=4)\n",
    "\n",
    "def read(filename):\n",
    "    with open(filename, 'r', encoding='utf-8') as f:\n",
    "        data = json.load(f)\n",
    "    return data\n",
    "\n",
    "def regiester(filename, url):\n",
    "    data = read(filename)\n",
    "    for quote in data[:10]:\n",
    "        content = quote['content']\n",
    "        response = requests.post(url, data=quote)\n",
    "        if response.status_code == 201:\n",
    "            print(f\"전송 성공: {content}\")\n",
    "        else:\n",
    "            print(\"전송 실패:\", content, response.status_code, response.text)"
   ]
  },
  {
   "cell_type": "code",
   "execution_count": 4,
   "metadata": {},
   "outputs": [
    {
     "name": "stdout",
     "output_type": "stream",
     "text": [
      "전송 성공: 천 리 길도 한 걸음부터 시작된다.\n",
      "전송 성공: 포기하지 않는 한 실패는 없다.\n",
      "전송 성공: 실수는 성장의 기회이다\n",
      "전송 성공: 생각하는 대로 이루어진다\n",
      "전송 성공: 배움은 언제나 즐거운 것이다\n",
      "전송 성공: 사랑은 삶의 꽃이다\n",
      "전송 성공: 자신감을 가지면 반은 성공한 것이다\n",
      "전송 성공: 오늘 심은 씨앗이 내일의 열매를 맺는다\n",
      "전송 성공: 변화는 새로운 시작이다\n",
      "전송 성공: 행복은 우리가 만드는 것이다\n"
     ]
    }
   ],
   "source": [
    "# 혜나가 보내준 자료 + 내가 만든 Quote로 DB(PostgreSQL, ChromaDB)에 등록\n",
    "# 총 57개의 명언이 등록 성공\n",
    "regiester('quote_example.json', register_url)"
   ]
  },
  {
   "cell_type": "code",
   "execution_count": 33,
   "metadata": {},
   "outputs": [],
   "source": [
    "import pandas as pd\n",
    "def recommend_test(query_filename, url):\n",
    "    query_set = pd.read_csv(query_filename) \n",
    "    result = []\n",
    "\n",
    "    for query in query_set['text']:\n",
    "        response = requests.post(url, data={'query' : query})\n",
    "        if response.status_code == 200: # OK\n",
    "            print(\"전송 성공\")\n",
    "            response_data = response.json()\n",
    "            sorted_data = sorted(response_data, key=lambda x: x['score'])\n",
    "            data = {\n",
    "                \"query\" : query,\n",
    "                \"quote1\" : sorted_data[0]['quote'],\n",
    "                \"description1\" : sorted_data[0]['description'],\n",
    "                \"quote2\" : sorted_data[1]['quote'],\n",
    "                \"description2\" : sorted_data[1]['description'],\n",
    "                \"quote3\" : sorted_data[2]['quote'],\n",
    "                \"description3\" : sorted_data[2]['description'],\n",
    "            }\n",
    "            result.append(data)\n",
    "        else:\n",
    "            print(\"전송 실패:\", response.status_code, response.text)\n",
    "    return result"
   ]
  },
  {
   "cell_type": "code",
   "execution_count": 34,
   "metadata": {},
   "outputs": [
    {
     "data": {
      "text/html": [
       "<div>\n",
       "<style scoped>\n",
       "    .dataframe tbody tr th:only-of-type {\n",
       "        vertical-align: middle;\n",
       "    }\n",
       "\n",
       "    .dataframe tbody tr th {\n",
       "        vertical-align: top;\n",
       "    }\n",
       "\n",
       "    .dataframe thead th {\n",
       "        text-align: right;\n",
       "    }\n",
       "</style>\n",
       "<table border=\"1\" class=\"dataframe\">\n",
       "  <thead>\n",
       "    <tr style=\"text-align: right;\">\n",
       "      <th></th>\n",
       "      <th>text</th>\n",
       "    </tr>\n",
       "  </thead>\n",
       "  <tbody>\n",
       "    <tr>\n",
       "      <th>0</th>\n",
       "      <td>오늘 해야할 일이 있는 것을 아는데 너무 귀찮아서 그냥 집에서 누워서 핸드폰 보면서...</td>\n",
       "    </tr>\n",
       "    <tr>\n",
       "      <th>1</th>\n",
       "      <td>모든 것이 너무 힘들어. 요즘 너무 바빠서 처리할 일도 많고 그러다보니 여유도 없어...</td>\n",
       "    </tr>\n",
       "    <tr>\n",
       "      <th>2</th>\n",
       "      <td>오늘은 너무 행복한 날이야. 내가 1년 동안 준비했던 시험에서 원하는 성적을 거두었...</td>\n",
       "    </tr>\n",
       "    <tr>\n",
       "      <th>3</th>\n",
       "      <td>새로운 도전을 시작해볼까? 물론 지금 하는 일을 포기하고 도전해야 한다는 것이 두렵...</td>\n",
       "    </tr>\n",
       "    <tr>\n",
       "      <th>4</th>\n",
       "      <td>실수해서 너무 속상해. 많은 사람들 앞에서 창피를 당했어. 사람들이 내가 무능한 사...</td>\n",
       "    </tr>\n",
       "  </tbody>\n",
       "</table>\n",
       "</div>"
      ],
      "text/plain": [
       "                                                text\n",
       "0  오늘 해야할 일이 있는 것을 아는데 너무 귀찮아서 그냥 집에서 누워서 핸드폰 보면서...\n",
       "1  모든 것이 너무 힘들어. 요즘 너무 바빠서 처리할 일도 많고 그러다보니 여유도 없어...\n",
       "2  오늘은 너무 행복한 날이야. 내가 1년 동안 준비했던 시험에서 원하는 성적을 거두었...\n",
       "3  새로운 도전을 시작해볼까? 물론 지금 하는 일을 포기하고 도전해야 한다는 것이 두렵...\n",
       "4  실수해서 너무 속상해. 많은 사람들 앞에서 창피를 당했어. 사람들이 내가 무능한 사..."
      ]
     },
     "execution_count": 34,
     "metadata": {},
     "output_type": "execute_result"
    }
   ],
   "source": [
    "recommend_url = \"http://127.0.0.1:8080/quote/recommend/\"\n",
    "query_filename = 'question.csv'\n",
    "\n",
    "query_file = pd.read_csv(query_filename)\n",
    "query_file.head()"
   ]
  },
  {
   "cell_type": "code",
   "execution_count": 35,
   "metadata": {},
   "outputs": [
    {
     "name": "stdout",
     "output_type": "stream",
     "text": [
      "전송 성공\n",
      "전송 성공\n",
      "전송 성공\n",
      "전송 성공\n",
      "전송 성공\n",
      "전송 성공\n",
      "전송 성공\n",
      "전송 성공\n",
      "전송 성공\n",
      "전송 성공\n",
      "전송 성공\n",
      "전송 성공\n",
      "전송 성공\n",
      "전송 성공\n",
      "전송 성공\n",
      "전송 성공\n",
      "전송 성공\n",
      "전송 성공\n",
      "전송 성공\n",
      "전송 성공\n",
      "전송 성공\n",
      "전송 성공\n",
      "전송 성공\n",
      "전송 성공\n",
      "전송 성공\n",
      "전송 성공\n",
      "전송 성공\n",
      "전송 성공\n",
      "전송 성공\n",
      "전송 성공\n",
      "전송 성공\n"
     ]
    }
   ],
   "source": [
    "result = recommend_test(query_filename, recommend_url)"
   ]
  },
  {
   "cell_type": "code",
   "execution_count": 32,
   "metadata": {},
   "outputs": [],
   "source": [
    "with open('answer.json', 'w', encoding='utf-8') as json_file:\n",
    "    json.dump(result, json_file, ensure_ascii=False, indent=4)"
   ]
  }
 ],
 "metadata": {
  "kernelspec": {
   "display_name": "venv",
   "language": "python",
   "name": "python3"
  },
  "language_info": {
   "codemirror_mode": {
    "name": "ipython",
    "version": 3
   },
   "file_extension": ".py",
   "mimetype": "text/x-python",
   "name": "python",
   "nbconvert_exporter": "python",
   "pygments_lexer": "ipython3",
   "version": "3.10.14"
  }
 },
 "nbformat": 4,
 "nbformat_minor": 2
}
